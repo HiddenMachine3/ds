{
 "cells": [
  {
   "cell_type": "markdown",
   "metadata": {},
   "source": [
    "\n",
    "import pandas as pd\n",
    "import numpy as np\n",
    "from sklearn.model_selection import train_test_split\n",
    "from sklearn.preprocessing import StandardScaler, OneHotEncoder\n",
    "from sklearn.compose import ColumnTransformer\n",
    "from sklearn.pipeline import Pipeline\n",
    "\n",
    "url = \"https://archive.ics.uci.edu/ml/machine-learning-databases/wine-quality/winequality-red.csv\"\n",
    "data = pd.read_csv(url, delimiter=';')\n",
    "print(\"First few rows of the dataset:\")\n",
    "print(data.head())\n",
    "\n",
    "Question 1: What libraries would you need to import for data manipulation, preprocessing (scaling and encoding), splitting data, and building a pipeline to streamline transformations in this project?\n",
    "\n",
    "\n",
    "Question 2: How would you load the Wine Quality dataset from a URL into a pandas DataFrame? What delimiter would you use, and how could you display the first few rows to inspect the data structure?\n",
    "\n",
    "Question 3: How would you check for missing values in the dataset and remove any duplicates? Additionally, how would you filter the dataset to ensure pH values are within a reasonable range (e.g., between 2.5 and 4.5)?\n",
    "\n",
    "\n",
    "\n",
    "Question 4: How would you preprocess the numeric features of the dataset by creating a pipeline that applies StandardScaler to standardize them? What steps would you take to apply this transformation and convert the preprocessed data back to a pandas DataFrame?\n",
    "\n",
    "Question 5: How would you split the dataset into training and testing sets, ensuring that 20% of the data is used for testing and 80% for training? How can you ensure the split is reproducible?\n",
    "\n",
    "Question 6: After splitting the data, how would you check and display the shape of the training and testing sets to verify that the data was correctly split?"
   ]
  },
  {
   "cell_type": "markdown",
   "metadata": {},
   "source": [
    "Question 1: What libraries would you need to import for data manipulation, preprocessing (scaling and encoding), splitting data, and building a pipeline to streamline transformations in this project?"
   ]
  },
  {
   "cell_type": "code",
   "execution_count": 24,
   "metadata": {},
   "outputs": [],
   "source": [
    "import pandas as pd\n",
    "import numpy as np\n",
    "from sklearn.model_selection import train_test_split\n",
    "from sklearn.preprocessing import StandardScaler, OneHotEncoder\n",
    "from sklearn.compose import ColumnTransformer\n",
    "from sklearn.pipeline import Pipeline"
   ]
  },
  {
   "cell_type": "markdown",
   "metadata": {},
   "source": [
    "Question 2: How would you load the Wine Quality dataset from a URL into a pandas DataFrame? What delimiter would you use, and how could you display the first few rows to inspect the data structure?"
   ]
  },
  {
   "cell_type": "code",
   "execution_count": 25,
   "metadata": {},
   "outputs": [
    {
     "name": "stdout",
     "output_type": "stream",
     "text": [
      "First few rows of the dataset:\n"
     ]
    },
    {
     "data": {
      "text/html": [
       "<div>\n",
       "<style scoped>\n",
       "    .dataframe tbody tr th:only-of-type {\n",
       "        vertical-align: middle;\n",
       "    }\n",
       "\n",
       "    .dataframe tbody tr th {\n",
       "        vertical-align: top;\n",
       "    }\n",
       "\n",
       "    .dataframe thead th {\n",
       "        text-align: right;\n",
       "    }\n",
       "</style>\n",
       "<table border=\"1\" class=\"dataframe\">\n",
       "  <thead>\n",
       "    <tr style=\"text-align: right;\">\n",
       "      <th></th>\n",
       "      <th>fixed acidity</th>\n",
       "      <th>volatile acidity</th>\n",
       "      <th>citric acid</th>\n",
       "      <th>residual sugar</th>\n",
       "      <th>chlorides</th>\n",
       "      <th>free sulfur dioxide</th>\n",
       "      <th>total sulfur dioxide</th>\n",
       "      <th>density</th>\n",
       "      <th>pH</th>\n",
       "      <th>sulphates</th>\n",
       "      <th>alcohol</th>\n",
       "      <th>quality</th>\n",
       "    </tr>\n",
       "  </thead>\n",
       "  <tbody>\n",
       "    <tr>\n",
       "      <th>0</th>\n",
       "      <td>7.4</td>\n",
       "      <td>0.70</td>\n",
       "      <td>0.00</td>\n",
       "      <td>1.9</td>\n",
       "      <td>0.076</td>\n",
       "      <td>11.0</td>\n",
       "      <td>34.0</td>\n",
       "      <td>0.9978</td>\n",
       "      <td>3.51</td>\n",
       "      <td>0.56</td>\n",
       "      <td>9.4</td>\n",
       "      <td>5</td>\n",
       "    </tr>\n",
       "    <tr>\n",
       "      <th>1</th>\n",
       "      <td>7.8</td>\n",
       "      <td>0.88</td>\n",
       "      <td>0.00</td>\n",
       "      <td>2.6</td>\n",
       "      <td>0.098</td>\n",
       "      <td>25.0</td>\n",
       "      <td>67.0</td>\n",
       "      <td>0.9968</td>\n",
       "      <td>3.20</td>\n",
       "      <td>0.68</td>\n",
       "      <td>9.8</td>\n",
       "      <td>5</td>\n",
       "    </tr>\n",
       "    <tr>\n",
       "      <th>2</th>\n",
       "      <td>7.8</td>\n",
       "      <td>0.76</td>\n",
       "      <td>0.04</td>\n",
       "      <td>2.3</td>\n",
       "      <td>0.092</td>\n",
       "      <td>15.0</td>\n",
       "      <td>54.0</td>\n",
       "      <td>0.9970</td>\n",
       "      <td>3.26</td>\n",
       "      <td>0.65</td>\n",
       "      <td>9.8</td>\n",
       "      <td>5</td>\n",
       "    </tr>\n",
       "    <tr>\n",
       "      <th>3</th>\n",
       "      <td>11.2</td>\n",
       "      <td>0.28</td>\n",
       "      <td>0.56</td>\n",
       "      <td>1.9</td>\n",
       "      <td>0.075</td>\n",
       "      <td>17.0</td>\n",
       "      <td>60.0</td>\n",
       "      <td>0.9980</td>\n",
       "      <td>3.16</td>\n",
       "      <td>0.58</td>\n",
       "      <td>9.8</td>\n",
       "      <td>6</td>\n",
       "    </tr>\n",
       "    <tr>\n",
       "      <th>4</th>\n",
       "      <td>7.4</td>\n",
       "      <td>0.70</td>\n",
       "      <td>0.00</td>\n",
       "      <td>1.9</td>\n",
       "      <td>0.076</td>\n",
       "      <td>11.0</td>\n",
       "      <td>34.0</td>\n",
       "      <td>0.9978</td>\n",
       "      <td>3.51</td>\n",
       "      <td>0.56</td>\n",
       "      <td>9.4</td>\n",
       "      <td>5</td>\n",
       "    </tr>\n",
       "  </tbody>\n",
       "</table>\n",
       "</div>"
      ],
      "text/plain": [
       "   fixed acidity  volatile acidity  citric acid  residual sugar  chlorides  \\\n",
       "0            7.4              0.70         0.00             1.9      0.076   \n",
       "1            7.8              0.88         0.00             2.6      0.098   \n",
       "2            7.8              0.76         0.04             2.3      0.092   \n",
       "3           11.2              0.28         0.56             1.9      0.075   \n",
       "4            7.4              0.70         0.00             1.9      0.076   \n",
       "\n",
       "   free sulfur dioxide  total sulfur dioxide  density    pH  sulphates  \\\n",
       "0                 11.0                  34.0   0.9978  3.51       0.56   \n",
       "1                 25.0                  67.0   0.9968  3.20       0.68   \n",
       "2                 15.0                  54.0   0.9970  3.26       0.65   \n",
       "3                 17.0                  60.0   0.9980  3.16       0.58   \n",
       "4                 11.0                  34.0   0.9978  3.51       0.56   \n",
       "\n",
       "   alcohol  quality  \n",
       "0      9.4        5  \n",
       "1      9.8        5  \n",
       "2      9.8        5  \n",
       "3      9.8        6  \n",
       "4      9.4        5  "
      ]
     },
     "metadata": {},
     "output_type": "display_data"
    }
   ],
   "source": [
    "url = \"https://archive.ics.uci.edu/ml/machine-learning-databases/wine-quality/winequality-red.csv\"\n",
    "data = pd.read_csv(url, delimiter=';')\n",
    "print(\"First few rows of the dataset:\")\n",
    "display(data.head())"
   ]
  },
  {
   "cell_type": "markdown",
   "metadata": {},
   "source": [
    "Question 3: How would you check for missing values in the dataset and remove any duplicates? Additionally, how would you filter the dataset to ensure pH values are within a reasonable range (e.g., between 2.5 and 4.5)?"
   ]
  },
  {
   "cell_type": "code",
   "execution_count": 26,
   "metadata": {},
   "outputs": [
    {
     "name": "stdout",
     "output_type": "stream",
     "text": [
      "Missing values in each column:\n",
      "fixed acidity           0\n",
      "volatile acidity        0\n",
      "citric acid             0\n",
      "residual sugar          0\n",
      "chlorides               0\n",
      "free sulfur dioxide     0\n",
      "total sulfur dioxide    0\n",
      "density                 0\n",
      "pH                      0\n",
      "sulphates               0\n",
      "alcohol                 0\n",
      "quality                 0\n",
      "dtype: int64\n"
     ]
    }
   ],
   "source": [
    "missing_values = data.isnull().sum()\n",
    "print(\"Missing values in each column:\")\n",
    "print(missing_values)"
   ]
  },
  {
   "cell_type": "code",
   "execution_count": 27,
   "metadata": {},
   "outputs": [
    {
     "data": {
      "text/plain": [
       "4.01"
      ]
     },
     "execution_count": 27,
     "metadata": {},
     "output_type": "execute_result"
    }
   ],
   "source": [
    "data['pH'].max()"
   ]
  },
  {
   "cell_type": "code",
   "execution_count": 28,
   "metadata": {},
   "outputs": [
    {
     "data": {
      "text/plain": [
       "2.74"
      ]
     },
     "execution_count": 28,
     "metadata": {},
     "output_type": "execute_result"
    }
   ],
   "source": [
    "data['pH'].min()"
   ]
  },
  {
   "cell_type": "code",
   "execution_count": 29,
   "metadata": {},
   "outputs": [
    {
     "name": "stdout",
     "output_type": "stream",
     "text": [
      "Data shape before removing duplicates: (1599, 12)\n",
      "Data shape after removing duplicates: (1359, 12)\n",
      "Data shape after filtering pH values: (1357, 12)\n"
     ]
    }
   ],
   "source": [
    "print(f\"Data shape before removing duplicates: {data.shape}\")\n",
    "data = data.drop_duplicates()\n",
    "print(f\"Data shape after removing duplicates: {data.shape}\")\n",
    "\n",
    "data = data[data['pH'] >= 2.5]\n",
    "data = data[data['pH'] <= 4]\n",
    "print(f\"Data shape after filtering pH values: {data.shape}\")"
   ]
  },
  {
   "cell_type": "markdown",
   "metadata": {},
   "source": [
    "Question 4: How would you preprocess the numeric features of the dataset by creating a pipeline that applies StandardScaler to standardize them? What steps would you take to apply this transformation and convert the preprocessed data back to a pandas DataFrame?"
   ]
  },
  {
   "cell_type": "code",
   "execution_count": 34,
   "metadata": {},
   "outputs": [
    {
     "name": "stdout",
     "output_type": "stream",
     "text": [
      "First few rows of the preprocessed data:\n"
     ]
    },
    {
     "data": {
      "text/html": [
       "<div>\n",
       "<style scoped>\n",
       "    .dataframe tbody tr th:only-of-type {\n",
       "        vertical-align: middle;\n",
       "    }\n",
       "\n",
       "    .dataframe tbody tr th {\n",
       "        vertical-align: top;\n",
       "    }\n",
       "\n",
       "    .dataframe thead th {\n",
       "        text-align: right;\n",
       "    }\n",
       "</style>\n",
       "<table border=\"1\" class=\"dataframe\">\n",
       "  <thead>\n",
       "    <tr style=\"text-align: right;\">\n",
       "      <th></th>\n",
       "      <th>fixed acidity</th>\n",
       "      <th>volatile acidity</th>\n",
       "      <th>citric acid</th>\n",
       "      <th>residual sugar</th>\n",
       "      <th>chlorides</th>\n",
       "      <th>free sulfur dioxide</th>\n",
       "      <th>total sulfur dioxide</th>\n",
       "      <th>density</th>\n",
       "      <th>pH</th>\n",
       "      <th>sulphates</th>\n",
       "      <th>alcohol</th>\n",
       "      <th>quality</th>\n",
       "    </tr>\n",
       "  </thead>\n",
       "  <tbody>\n",
       "    <tr>\n",
       "      <th>0</th>\n",
       "      <td>-0.527939</td>\n",
       "      <td>0.933920</td>\n",
       "      <td>-1.396283</td>\n",
       "      <td>-0.462586</td>\n",
       "      <td>-0.247014</td>\n",
       "      <td>-0.468194</td>\n",
       "      <td>-0.383804</td>\n",
       "      <td>0.582419</td>\n",
       "      <td>1.317546</td>\n",
       "      <td>-0.578798</td>\n",
       "      <td>-0.953427</td>\n",
       "      <td>-0.755926</td>\n",
       "    </tr>\n",
       "    <tr>\n",
       "      <th>1</th>\n",
       "      <td>-0.297191</td>\n",
       "      <td>1.917957</td>\n",
       "      <td>-1.396283</td>\n",
       "      <td>0.055220</td>\n",
       "      <td>0.198674</td>\n",
       "      <td>0.871376</td>\n",
       "      <td>0.603592</td>\n",
       "      <td>0.045611</td>\n",
       "      <td>-0.712013</td>\n",
       "      <td>0.124151</td>\n",
       "      <td>-0.582901</td>\n",
       "      <td>-0.755926</td>\n",
       "    </tr>\n",
       "    <tr>\n",
       "      <th>2</th>\n",
       "      <td>-0.297191</td>\n",
       "      <td>1.261933</td>\n",
       "      <td>-1.191500</td>\n",
       "      <td>-0.166697</td>\n",
       "      <td>0.077123</td>\n",
       "      <td>-0.085459</td>\n",
       "      <td>0.214618</td>\n",
       "      <td>0.152972</td>\n",
       "      <td>-0.319195</td>\n",
       "      <td>-0.051586</td>\n",
       "      <td>-0.582901</td>\n",
       "      <td>-0.755926</td>\n",
       "    </tr>\n",
       "    <tr>\n",
       "      <th>3</th>\n",
       "      <td>1.664161</td>\n",
       "      <td>-1.362165</td>\n",
       "      <td>1.470681</td>\n",
       "      <td>-0.462586</td>\n",
       "      <td>-0.267273</td>\n",
       "      <td>0.105908</td>\n",
       "      <td>0.394145</td>\n",
       "      <td>0.689780</td>\n",
       "      <td>-0.973891</td>\n",
       "      <td>-0.461640</td>\n",
       "      <td>-0.582901</td>\n",
       "      <td>0.458028</td>\n",
       "    </tr>\n",
       "    <tr>\n",
       "      <th>4</th>\n",
       "      <td>-0.527939</td>\n",
       "      <td>0.715245</td>\n",
       "      <td>-1.396283</td>\n",
       "      <td>-0.536559</td>\n",
       "      <td>-0.267273</td>\n",
       "      <td>-0.276827</td>\n",
       "      <td>-0.204277</td>\n",
       "      <td>0.582419</td>\n",
       "      <td>1.317546</td>\n",
       "      <td>-0.578798</td>\n",
       "      <td>-0.953427</td>\n",
       "      <td>-0.755926</td>\n",
       "    </tr>\n",
       "  </tbody>\n",
       "</table>\n",
       "</div>"
      ],
      "text/plain": [
       "   fixed acidity  volatile acidity  citric acid  residual sugar  chlorides  \\\n",
       "0      -0.527939          0.933920    -1.396283       -0.462586  -0.247014   \n",
       "1      -0.297191          1.917957    -1.396283        0.055220   0.198674   \n",
       "2      -0.297191          1.261933    -1.191500       -0.166697   0.077123   \n",
       "3       1.664161         -1.362165     1.470681       -0.462586  -0.267273   \n",
       "4      -0.527939          0.715245    -1.396283       -0.536559  -0.267273   \n",
       "\n",
       "   free sulfur dioxide  total sulfur dioxide   density        pH  sulphates  \\\n",
       "0            -0.468194             -0.383804  0.582419  1.317546  -0.578798   \n",
       "1             0.871376              0.603592  0.045611 -0.712013   0.124151   \n",
       "2            -0.085459              0.214618  0.152972 -0.319195  -0.051586   \n",
       "3             0.105908              0.394145  0.689780 -0.973891  -0.461640   \n",
       "4            -0.276827             -0.204277  0.582419  1.317546  -0.578798   \n",
       "\n",
       "    alcohol   quality  \n",
       "0 -0.953427 -0.755926  \n",
       "1 -0.582901 -0.755926  \n",
       "2 -0.582901 -0.755926  \n",
       "3 -0.582901  0.458028  \n",
       "4 -0.953427 -0.755926  "
      ]
     },
     "metadata": {},
     "output_type": "display_data"
    }
   ],
   "source": [
    "numeric_features = data.select_dtypes(include=[\"float64\", \"int64\"]).columns\n",
    "\n",
    "numeric_transformer = Pipeline(steps=[(\"scaler\", StandardScaler())])\n",
    "\n",
    "preprocessor = ColumnTransformer(\n",
    "    transformers=[(\"num\", numeric_transformer, numeric_features)]\n",
    ")\n",
    "\n",
    "data_preprocessed = preprocessor.fit_transform(data)\n",
    "\n",
    "data_preprocessed_df = pd.DataFrame(data_preprocessed, columns=numeric_features)\n",
    "\n",
    "print(\"First few rows of the preprocessed data:\")\n",
    "display(data_preprocessed_df.head())"
   ]
  },
  {
   "cell_type": "markdown",
   "metadata": {},
   "source": [
    "Question 5: How would you split the dataset into training and testing sets, ensuring that 20% of the data is used for testing and 80% for training? How can you ensure the split is reproducible?"
   ]
  },
  {
   "cell_type": "code",
   "execution_count": 31,
   "metadata": {},
   "outputs": [],
   "source": [
    "train_df, test_df = train_test_split(data, test_size=0.2, random_state=42)\n",
    "\n",
    "# we would ensure reproducible splits by using the same random_state"
   ]
  },
  {
   "cell_type": "markdown",
   "metadata": {},
   "source": [
    "Question 6: After splitting the data, how would you check and display the shape of the training and testing sets to verify that the data was correctly split?"
   ]
  },
  {
   "cell_type": "code",
   "execution_count": 32,
   "metadata": {},
   "outputs": [
    {
     "data": {
      "text/plain": [
       "(1085, 12)"
      ]
     },
     "execution_count": 32,
     "metadata": {},
     "output_type": "execute_result"
    }
   ],
   "source": [
    "train_df.shape"
   ]
  },
  {
   "cell_type": "code",
   "execution_count": 33,
   "metadata": {},
   "outputs": [
    {
     "data": {
      "text/plain": [
       "(272, 12)"
      ]
     },
     "execution_count": 33,
     "metadata": {},
     "output_type": "execute_result"
    }
   ],
   "source": [
    "test_df.shape"
   ]
  }
 ],
 "metadata": {
  "kernelspec": {
   "display_name": "Python 3",
   "language": "python",
   "name": "python3"
  },
  "language_info": {
   "codemirror_mode": {
    "name": "ipython",
    "version": 3
   },
   "file_extension": ".py",
   "mimetype": "text/x-python",
   "name": "python",
   "nbconvert_exporter": "python",
   "pygments_lexer": "ipython3",
   "version": "3.12.1"
  }
 },
 "nbformat": 4,
 "nbformat_minor": 2
}
